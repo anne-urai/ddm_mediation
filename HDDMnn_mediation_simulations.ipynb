{
  "nbformat": 4,
  "nbformat_minor": 0,
  "metadata": {
    "colab": {
      "name": "HDDMnn_mediation_simulations.ipynb",
      "provenance": [],
      "authorship_tag": "ABX9TyNLrbbD81Fk3+Vx3LnTPg42",
      "include_colab_link": true
    },
    "kernelspec": {
      "name": "python3",
      "display_name": "Python 3"
    },
    "language_info": {
      "name": "python"
    }
  },
  "cells": [
    {
      "cell_type": "markdown",
      "metadata": {
        "id": "view-in-github",
        "colab_type": "text"
      },
      "source": [
        "<a href=\"https://colab.research.google.com/github/anne-urai/ddm_mediation/blob/main/HDDMnn_mediation_simulations.ipynb\" target=\"_parent\"><img src=\"https://colab.research.google.com/assets/colab-badge.svg\" alt=\"Open In Colab\"/></a>"
      ]
    },
    {
      "cell_type": "code",
      "execution_count": null,
      "metadata": {
        "colab": {
          "base_uri": "https://localhost:8080/"
        },
        "id": "ajtx3-a8GQJo",
        "outputId": "f9b0bb37-c954-4a1e-d24f-8dc7796ab6e9"
      },
      "outputs": [
        {
          "output_type": "stream",
          "name": "stdout",
          "text": [
            "Requirement already satisfied: scikit-learn in /usr/local/lib/python3.7/dist-packages (1.0.2)\n",
            "Requirement already satisfied: scipy>=1.1.0 in /usr/local/lib/python3.7/dist-packages (from scikit-learn) (1.4.1)\n",
            "Requirement already satisfied: joblib>=0.11 in /usr/local/lib/python3.7/dist-packages (from scikit-learn) (1.1.0)\n",
            "Requirement already satisfied: threadpoolctl>=2.0.0 in /usr/local/lib/python3.7/dist-packages (from scikit-learn) (3.1.0)\n",
            "Requirement already satisfied: numpy>=1.14.6 in /usr/local/lib/python3.7/dist-packages (from scikit-learn) (1.21.5)\n",
            "Requirement already satisfied: cython in /usr/local/lib/python3.7/dist-packages (0.29.28)\n",
            "Collecting pymc\n",
            "  Downloading pymc-2.3.8.tar.gz (385 kB)\n",
            "\u001b[K     |████████████████████████████████| 385 kB 7.7 MB/s \n",
            "\u001b[?25hBuilding wheels for collected packages: pymc\n",
            "  Building wheel for pymc (setup.py) ... \u001b[?25l\u001b[?25hdone\n",
            "  Created wheel for pymc: filename=pymc-2.3.8-cp37-cp37m-linux_x86_64.whl size=1361140 sha256=b98eade3bfcffc641c5676df0d2d4e0b81a552da154ba1f2f05a59d2b4e3b7a7\n",
            "  Stored in directory: /root/.cache/pip/wheels/3b/9b/1d/2a2ddbe80519db2698745f0988ce50c36ad38aac886a4ee0ca\n",
            "Successfully built pymc\n",
            "Installing collected packages: pymc\n",
            "Successfully installed pymc-2.3.8\n",
            "Collecting git+https://github.com/hddm-devs/hddm\n",
            "  Cloning https://github.com/hddm-devs/hddm to /tmp/pip-req-build-zgba1np5\n",
            "  Running command git clone -q https://github.com/hddm-devs/hddm /tmp/pip-req-build-zgba1np5\n",
            "  Running command git submodule update --init --recursive -q\n",
            "Building wheels for collected packages: HDDM\n",
            "  Building wheel for HDDM (setup.py) ... \u001b[?25l\u001b[?25hdone\n",
            "  Created wheel for HDDM: filename=HDDM-0.9.3-cp37-cp37m-linux_x86_64.whl size=3874730 sha256=350509b5a6fddb32ac309da52360b101f63424dc5af8ed3a763079f1a73d1c80\n",
            "  Stored in directory: /tmp/pip-ephem-wheel-cache-t5ql_olf/wheels/12/ca/83/564eeefb14507aa5cef813e98168b986f6461da6bf04498e3a\n",
            "Successfully built HDDM\n",
            "Installing collected packages: HDDM\n",
            "Successfully installed HDDM-0.9.3\n",
            "Collecting git+https://github.com/hddm-devs/kabuki\n",
            "  Cloning https://github.com/hddm-devs/kabuki to /tmp/pip-req-build-axweqow7\n",
            "  Running command git clone -q https://github.com/hddm-devs/kabuki /tmp/pip-req-build-axweqow7\n",
            "Building wheels for collected packages: kabuki\n",
            "  Building wheel for kabuki (setup.py) ... \u001b[?25l\u001b[?25hdone\n",
            "  Created wheel for kabuki: filename=kabuki-0.6.4-py3-none-any.whl size=37271 sha256=fa46fa1db45dedcfa28d71487114f43e9dcf9dc6257126b827043507946f842d\n",
            "  Stored in directory: /tmp/pip-ephem-wheel-cache-u7jc0yfz/wheels/6e/da/56/876f38186281888a996349c96dbbceda8d46df091c04d38a33\n",
            "Successfully built kabuki\n",
            "Installing collected packages: kabuki\n",
            "Successfully installed kabuki-0.6.4\n"
          ]
        }
      ],
      "source": [
        "# First, set Runtime -> Runtime type -> GPU\n",
        "\n",
        "# https://hddm.readthedocs.io/en/latest/lan_tutorial.html\n",
        "!pip install scikit-learn\n",
        "!pip install cython\n",
        "!pip install pymc\n",
        "\n",
        "!pip install -U --no-deps git+https://github.com/hddm-devs/hddm\n",
        "!pip install -U --no-deps git+https://github.com/hddm-devs/kabuki"
      ]
    },
    {
      "cell_type": "code",
      "source": [
        "# MODULE IMPORTS ----\n",
        "# warning settings\n",
        "import warnings\n",
        "warnings.simplefilter(action='ignore', category=FutureWarning)\n",
        "\n",
        "# Data management\n",
        "import pandas as pd\n",
        "import numpy as np\n",
        "import pickle\n",
        "\n",
        "# Plotting\n",
        "import matplotlib.pyplot as plt\n",
        "import matplotlib\n",
        "import seaborn as sns\n",
        "\n",
        "# Stats functionality\n",
        "from statsmodels.distributions.empirical_distribution import ECDF\n",
        "\n",
        "# HDDM\n",
        "import hddm"
      ],
      "metadata": {
        "id": "TgGXhPcqGT0v"
      },
      "execution_count": null,
      "outputs": []
    },
    {
      "cell_type": "code",
      "source": [
        "help(hddm.simulators.hddm_dataset_generators.simulator_h_c)"
      ],
      "metadata": {
        "colab": {
          "base_uri": "https://localhost:8080/"
        },
        "id": "vN0MibQcIcXG",
        "outputId": "8041a525-f482-4cc2-aa28-9ebfc9853353"
      },
      "execution_count": null,
      "outputs": [
        {
          "output_type": "stream",
          "name": "stdout",
          "text": [
            "Help on function simulator_h_c in module hddm.simulators.hddm_dataset_generators:\n",
            "\n",
            "simulator_h_c(data=None, n_subjects=10, n_trials_per_subject=100, model='ddm_vanilla', conditions=None, depends_on=None, regression_models=None, regression_covariates=None, group_only_regressors=True, group_only=['z'], fixed_at_default=None, p_outlier=0.0, outlier_max_t=10.0, **kwargs)\n",
            "    Flexible simulator that allows specification of models very similar to the hddm model classes. Has two major modes. When data \n",
            "    \n",
            "    is supplied the function generates synthetic versions of the provided data. If no data is provided, you can supply\n",
            "    a varied of options to create complicated synthetic datasets from scratch.\n",
            "    \n",
            "    :Arguments:\n",
            "        data: pd.DataFrame <default=None>\n",
            "            Actual covariate dataset. If data is supplied its covariates are used instead of generated.\n",
            "        n_subjects: int <default=5>\n",
            "            Number of subjects in the datasets\n",
            "        n_trials_per_subject: int <default=500>\n",
            "            Number of trials for each subject\n",
            "        model: str <default = 'ddm_vanilla'>\n",
            "            Model to sample from. For traditional hddm supported models, append '_vanilla' to the model. Omitting 'vanilla'\n",
            "            imposes constraints on the parameter sets to not violate the trained parameter space of our LANs.\n",
            "        conditions: dict <default=None>\n",
            "            Keys represent condition relevant columns, and values are lists of unique items for each condition relevant column.\n",
            "            Example: {\"c_one\": [\"high\", \"low\"], \"c_two\": [\"high\", \"low\"], \"c_three\": [\"high\", \"medium\", \"low\"]}\n",
            "        depends_on: dict <default=None>\n",
            "            Keys specify model parameters that depend on the values --> lists of condition relevant columns.\n",
            "            Follows the syntax in the HDDM model classes. Example: {\"v\": [\"c_one\", \"c_two\"]}\n",
            "        regression_models: list or strings <default=None>\n",
            "            Specify regression model formulas for one or more dependent parameters in a list.\n",
            "            Follows syntax of HDDM model classes.\n",
            "            Example: [\"z ~ covariate_name\"]\n",
            "        regression_covariates: dict <default={'covariate_name': {'type': 'categorical', 'range': (0, 4)}}>\n",
            "            Dictionary in dictionary. Specify the name of the covariate column as keys, and for each key supply the 'type' (categorical, continuous) and\n",
            "            'range' ((lower bound, upper bound)) of the covariate.\n",
            "            Example: {\"covariate_name\": {\"type\": \"categorical\", \"range\": (0, 4)}}\n",
            "        group_only_regressors: bin <default=True>\n",
            "            Should regressors only be specified at the group level? If true then only intercepts are specified subject wise.\n",
            "            Other covariates act globally.\n",
            "        group_only: list <default = ['z']>\n",
            "            List of parameters that are specified only at the group level.\n",
            "        fixed_at_default: list <default=None>\n",
            "            List of parameters for which defaults are to be used.\n",
            "            These defaults are specified in the model_config dictionary,\n",
            "            which you can access via: hddm.simulators.model_config.\n",
            "            Example: ['t']\n",
            "        p_outlier: float <default = 0.0>\n",
            "            Specifies the proportion of outliers in the data.\n",
            "        outlier_max_t: float <default = 10.0>\n",
            "            Outliers are generated from np.random.uniform(low = 0, high = outlier_max_t) with random choices.\n",
            "    Returns:\n",
            "        (pandas.DataFrame, dict): The Dataframe holds the generated dataset, ready for constuction of an hddm model. The dictionary holds the groundtruth parameter (values) and parameter names (keys). Keys match\n",
            "                                  the names of traces when fitting the equivalent hddm model. The parameter dictionary is useful for some graphs, otherwise not neccessary.\n",
            "\n"
          ]
        }
      ]
    },
    {
      "cell_type": "code",
      "source": [
        "## generate some artificial choice data with mediation variable\n",
        "\n"
      ],
      "metadata": {
        "id": "wGyUG_eaKNeW"
      },
      "execution_count": null,
      "outputs": []
    },
    {
      "cell_type": "code",
      "source": [
        "# which HDDMnn models exist?\n",
        "import pprint\n",
        "mm = hddm.model_config.model_config.keys()\n",
        "pprint.pprint(list(mm))\n",
        "# for m in mm:\n",
        "#   print('\\n\\n' + m)\n",
        "#   pprint.pprint(hddm.model_config.model_config[m])"
      ],
      "metadata": {
        "colab": {
          "base_uri": "https://localhost:8080/"
        },
        "id": "BY1Q_QzbK2J_",
        "outputId": "1c47af4a-e04e-4208-d501-05f416e49607"
      },
      "execution_count": null,
      "outputs": [
        {
          "output_type": "stream",
          "name": "stdout",
          "text": [
            "['ddm_vanilla',\n",
            " 'full_ddm_vanilla',\n",
            " 'ddm',\n",
            " 'angle',\n",
            " 'weibull',\n",
            " 'levy',\n",
            " 'full_ddm',\n",
            " 'ornstein',\n",
            " 'ddm_sdv',\n",
            " 'ddm_par2',\n",
            " 'ddm_par2_no_bias',\n",
            " 'ddm_par2_angle_no_bias',\n",
            " 'ddm_par2_weibull_no_bias',\n",
            " 'ddm_seq2',\n",
            " 'ddm_seq2_no_bias',\n",
            " 'ddm_seq2_angle_no_bias',\n",
            " 'ddm_seq2_weibull_no_bias',\n",
            " 'ddm_mic2_adj',\n",
            " 'ddm_mic2_adj_no_bias',\n",
            " 'ddm_mic2_adj_angle_no_bias',\n",
            " 'ddm_mic2_adj_weibull_no_bias',\n",
            " 'race_no_bias_3',\n",
            " 'race_no_bias_angle_3',\n",
            " 'race_no_bias_4',\n",
            " 'race_no_bias_angle_4',\n",
            " 'lca_no_bias_3',\n",
            " 'lca_no_bias_angle_3',\n",
            " 'lca_no_bias_4',\n",
            " 'lca_no_bias_angle_4',\n",
            " 'weibull_cdf',\n",
            " 'full_ddm2']\n"
          ]
        }
      ]
    },
    {
      "cell_type": "code",
      "source": [
        "# USE THE HDDMNN MODULE TO SIMULATE DATA\n",
        "# see https://hddm.readthedocs.io/en/latest/lan_tutorial.html#section-5-regressors \n",
        "\n",
        "nmcmc = 1500\n",
        "model = 'ddm' # start simple\n",
        "n_subjects = 10\n",
        "n_trials_per_subject = 500\n",
        "\n",
        "# #         regression_covariates: dict <default={'covariate_name': {'type': 'categorical', 'range': (0, 4)}}>\n",
        "#             Dictionary in dictionary. Specify the name of the covariate column as keys, and for each key supply the 'type' (categorical, continuous) and\n",
        "#             'range' ((lower bound, upper bound)) of the covariate.\n",
        "#             Example: {\"covariate_name\": {\"type\": \"categorical\", \"range\": (0, 4)}}\n",
        "\n",
        "data, full_parameter_dict = hddm.simulators.hddm_dataset_generators.simulator_h_c(data, \n",
        "                                                                                  n_subjects = n_subjects,\n",
        "                                                                                  n_trials_per_subject = n_trials_per_subject,\n",
        "                                                                                  model = model,\n",
        "                                                                                  p_outlier = 0.05,\n",
        "                                                                                  conditions = None, \n",
        "                                                                                  depends_on = None,\n",
        "                                                                                  regression_models = ['z ~ 1', 'v ~ 1 + stimulus + prevresp'], \n",
        "                                                                                  regression_covariates = {'stimulus': {'type': 'continuous', 'range': (0, 1)},\n",
        "                                                                                                           'prevresp': {'type': 'continuous', 'range': (0, 1)}}, # need this to make initial covariate matrix from which to use dmatrix (patsy)\n",
        "                                                                                  group_only_regressors = False,\n",
        "                                                                                  group_only = None,\n",
        "                                                                                  fixed_at_default = None)\n"
      ],
      "metadata": {
        "id": "FGUI9kIVGX5W"
      },
      "execution_count": null,
      "outputs": []
    },
    {
      "cell_type": "code",
      "source": [
        "# Make HDDM Model to FIT\n",
        "\n",
        "# Set up the regressor a regressor:\n",
        "reg_model_v = {'model': 'v ~ 1 + stimulus + prevresp', 'link_func': lambda x: x}\n",
        "reg_model_z = {'model': 'z ~ 1 + prevresp', 'link_func': lambda x: x}\n",
        "reg_descr = [reg_model_z, reg_model_v]\n",
        "\n",
        "hddmnn_model = hddm.HDDMnn(data,\n",
        "                           model = model,\n",
        "                           informative = False,\n",
        "                           include = hddm.simulators.model_config[model]['hddm_include'],\n",
        "                           p_outlier = 0.05,\n",
        "                           is_group_model = True)\n",
        "hddmnn_model.sample(nmcmc, burn = 100)"
      ],
      "metadata": {
        "id": "8MpW744nHBf_"
      },
      "execution_count": null,
      "outputs": []
    },
    {
      "cell_type": "code",
      "source": [
        "# Caterpillar Plot: (Parameters recovered ok?)\n",
        "hddm.plotting.plot_caterpillar(hddm_model = hddmnn_model,\n",
        "                               ground_truth_parameter_dict = full_parameter_dict,\n",
        "                               figsize = (8, 8),\n",
        "                               columns = 3)\n",
        "plt.show()"
      ],
      "metadata": {
        "id": "Mwpxi-NHHHu-"
      },
      "execution_count": null,
      "outputs": []
    }
  ]
}