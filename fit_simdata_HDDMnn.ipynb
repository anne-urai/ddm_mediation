{
  "nbformat": 4,
  "nbformat_minor": 0,
  "metadata": {
    "colab": {
      "name": "fit_simdata_HDDMnn",
      "provenance": [],
      "collapsed_sections": [],
      "authorship_tag": "ABX9TyNTLqakITr2NMrxOpx+LWtP",
      "include_colab_link": true
    },
    "kernelspec": {
      "name": "python3",
      "display_name": "Python 3"
    },
    "language_info": {
      "name": "python"
    },
    "accelerator": "GPU"
  },
  "cells": [
    {
      "cell_type": "markdown",
      "metadata": {
        "id": "view-in-github",
        "colab_type": "text"
      },
      "source": [
        "<a href=\"https://colab.research.google.com/github/anne-urai/ddm_mediation/blob/main/fit_simdata_HDDMnn.ipynb\" target=\"_parent\"><img src=\"https://colab.research.google.com/assets/colab-badge.svg\" alt=\"Open In Colab\"/></a>"
      ]
    },
    {
      "cell_type": "code",
      "execution_count": null,
      "metadata": {
        "colab": {
          "base_uri": "https://localhost:8080/"
        },
        "id": "ajtx3-a8GQJo",
        "outputId": "1a73a085-6ae0-4bde-8a28-efb23f7e0b99"
      },
      "outputs": [
        {
          "output_type": "stream",
          "name": "stdout",
          "text": [
            "Requirement already satisfied: scikit-learn in /usr/local/lib/python3.7/dist-packages (1.0.2)\n",
            "Requirement already satisfied: joblib>=0.11 in /usr/local/lib/python3.7/dist-packages (from scikit-learn) (1.1.0)\n",
            "Requirement already satisfied: threadpoolctl>=2.0.0 in /usr/local/lib/python3.7/dist-packages (from scikit-learn) (3.1.0)\n",
            "Requirement already satisfied: numpy>=1.14.6 in /usr/local/lib/python3.7/dist-packages (from scikit-learn) (1.21.5)\n",
            "Requirement already satisfied: scipy>=1.1.0 in /usr/local/lib/python3.7/dist-packages (from scikit-learn) (1.4.1)\n",
            "Requirement already satisfied: cython in /usr/local/lib/python3.7/dist-packages (0.29.28)\n",
            "Requirement already satisfied: pymc in /usr/local/lib/python3.7/dist-packages (2.3.8)\n",
            "Collecting git+https://github.com/hddm-devs/hddm\n",
            "  Cloning https://github.com/hddm-devs/hddm to /tmp/pip-req-build-ldd2rg8g\n",
            "  Running command git clone -q https://github.com/hddm-devs/hddm /tmp/pip-req-build-ldd2rg8g\n",
            "  Running command git submodule update --init --recursive -q\n",
            "Collecting git+https://github.com/hddm-devs/kabuki\n",
            "  Cloning https://github.com/hddm-devs/kabuki to /tmp/pip-req-build-kwnnt955\n",
            "  Running command git clone -q https://github.com/hddm-devs/kabuki /tmp/pip-req-build-kwnnt955\n"
          ]
        }
      ],
      "source": [
        "# First, set Runtime -> Runtime type -> GPU\n",
        "\n",
        "# https://hddm.readthedocs.io/en/latest/lan_tutorial.html\n",
        "!pip install scikit-learn\n",
        "!pip install cython\n",
        "!pip install pymc\n",
        "\n",
        "!pip install -U --no-deps git+https://github.com/hddm-devs/hddm\n",
        "!pip install -U --no-deps git+https://github.com/hddm-devs/kabuki"
      ]
    },
    {
      "cell_type": "code",
      "source": [
        "# MODULE IMPORTS ----\n",
        "# warning settings\n",
        "import warnings\n",
        "warnings.simplefilter(action='ignore', category=FutureWarning)\n",
        "\n",
        "# Data management\n",
        "import pandas as pd\n",
        "import numpy as np\n",
        "import pickle\n",
        "\n",
        "# Plotting\n",
        "import matplotlib.pyplot as plt\n",
        "import matplotlib\n",
        "import seaborn as sns\n",
        "\n",
        "# Stats functionality\n",
        "from statsmodels.distributions.empirical_distribution import ECDF\n",
        "\n",
        "# to download data\n",
        "from google.colab import files\n",
        "import pprint\n",
        "\n",
        "# HDDM\n",
        "import hddm"
      ],
      "metadata": {
        "id": "TgGXhPcqGT0v",
        "colab": {
          "base_uri": "https://localhost:8080/",
          "height": 131
        },
        "outputId": "13a1e88c-a727-43bf-e55a-635abe8e6ff9"
      },
      "execution_count": null,
      "outputs": [
        {
          "output_type": "error",
          "ename": "SyntaxError",
          "evalue": "ignored",
          "traceback": [
            "\u001b[0;36m  File \u001b[0;32m\"/usr/local/lib/python3.7/dist-packages/hddm/simulators/hddm_dataset_generators.py\"\u001b[0;36m, line \u001b[0;32m1136\u001b[0m\n\u001b[0;31m    )g\u001b[0m\n\u001b[0m    ^\u001b[0m\n\u001b[0;31mSyntaxError\u001b[0m\u001b[0;31m:\u001b[0m invalid syntax\n"
          ]
        }
      ]
    },
    {
      "cell_type": "code",
      "source": [
        "##  ============================================================= ##\n",
        "## generate some artificial choice data with mediation variable\n",
        "##  ============================================================= ##\n",
        "\n",
        "# first, previous choices ('X')\n",
        "n_trials = 500\n",
        "n_subj = 20\n",
        "df = pd.DataFrame(np.random.choice([-1,1], (n_trials*n_subj, 2)), \n",
        "                  columns=list('XS')) \n",
        "\n",
        "# then a normally distributed random variable, that depends on X\n",
        "df['M'] = np.random.normal(size=n_trials*n_subj) + df['X']\n",
        "\n",
        "# make sure we have subj_idx and trial_idx\n",
        "subj_idx = []\n",
        "for s in np.arange(n_subj) + 1:\n",
        "  for n in np.arange(n_trials):\n",
        "    subj_idx.append(s)\n",
        "\n",
        "trial_idx = []\n",
        "for s in np.arange(n_subj) + 1:\n",
        "  for n in np.arange(n_trials):\n",
        "    trial_idx.append(n)\n",
        "\n",
        "df['subj_idx'] = subj_idx\n",
        "df['trial_idx'] = trial_idx\n",
        "\n",
        "df = df[['subj_idx', 'trial_idx', 'S', 'X', 'M']]\n",
        "df.sample(n=20)\n"
      ],
      "metadata": {
        "id": "wGyUG_eaKNeW"
      },
      "execution_count": null,
      "outputs": []
    },
    {
      "cell_type": "code",
      "source": [
        "# see the separation\n",
        "g = sns.FacetGrid(data=df, col='subj_idx', col_wrap=5, hue='X')\n",
        "g.map(sns.distplot, 'M')"
      ],
      "metadata": {
        "id": "iBodLpX_pJZC"
      },
      "execution_count": null,
      "outputs": []
    },
    {
      "cell_type": "code",
      "source": [
        ""
      ],
      "metadata": {
        "id": "9NR7AEg1oeTf"
      },
      "execution_count": null,
      "outputs": []
    },
    {
      "cell_type": "code",
      "source": [
        "##  ============================================================= ##\n",
        "# plug into HDDMnn to simulate choices and RTs\n",
        "##  ============================================================= ##\n",
        "\n",
        "# help(hddm.simulators.hddm_dataset_generators.simulator_h_c)\n",
        "# see https://hddm.readthedocs.io/en/latest/lan_tutorial.html#section-5-regressors \n",
        "\n",
        "model = 'ddm' # start simple\n",
        "data, full_parameter_dict = hddm.simulators.hddm_dataset_generators.simulator_h_c(data = df, \n",
        "                                                                                  model = model,\n",
        "                                                                                  p_outlier = 0.00,\n",
        "                                                                                  conditions = None, #{'X': [-1, 1], 'S':[-1,1]}, \n",
        "                                                                                  depends_on = None, #{'v': ['X','S']},\n",
        "                                                                                  regression_models = ['v ~ 1 + S + X'], \n",
        "                                                                                  #regression_covariates = ['S', 'X'],\n",
        "                                                                                  regression_covariates = {'S': {'type': 'categorical', 'range': (-1, 1)},\n",
        "                                                                                                           'X': {'type': 'categorical', 'range': (-1, 1)}},\n",
        "                                                                                  group_only = None,\n",
        "                                                                                  group_only_regressors = False,\n",
        "                                                                                  fixed_at_default = None)\n"
      ],
      "metadata": {
        "id": "X0vr8asbng-n"
      },
      "execution_count": null,
      "outputs": []
    },
    {
      "cell_type": "code",
      "source": [
        "# help(hddm.simulators.hddm_dataset_generators.simulator_h_c)\n",
        "data\n",
        "hddm.simulators.model_config[model][\"params\"]\n"
      ],
      "metadata": {
        "id": "7b6_WEIktPjV"
      },
      "execution_count": null,
      "outputs": []
    },
    {
      "cell_type": "code",
      "source": [
        "range(1)"
      ],
      "metadata": {
        "id": "JBLMV0FI0EF1"
      },
      "execution_count": null,
      "outputs": []
    },
    {
      "cell_type": "code",
      "source": [
        "# param_dict = {k: [x for x in v if 'reg' not in x] for k, v in full_parameter_dict.items()}\n",
        "param_dict = {}\n",
        "for key, value in full_parameter_dict.items():\n",
        "    if 'reg' not in key:\n",
        "        param_dict[key] = value\n",
        "param_dict#\n",
        "param_df = pd.DataFrame.from_dict(param_dict, orient='index').reset_index()\n",
        "param_df\n"
      ],
      "metadata": {
        "id": "sERS7Vpls1Bp"
      },
      "execution_count": null,
      "outputs": []
    },
    {
      "cell_type": "code",
      "source": [
        "key"
      ],
      "metadata": {
        "id": "vN0MibQcIcXG"
      },
      "execution_count": null,
      "outputs": []
    },
    {
      "cell_type": "code",
      "source": [
        "# see https://colab.research.google.com/notebooks/io.ipynb#scrollTo=p2E4EKhCWEC5\n",
        "from google.colab import files\n",
        "\n",
        "with open('example.txt', 'w') as f:\n",
        "  f.write('some content')\n",
        "\n",
        "files.download('example.txt')"
      ],
      "metadata": {
        "id": "TC_otem1l9r_"
      },
      "execution_count": null,
      "outputs": []
    },
    {
      "cell_type": "code",
      "source": [
        "# which HDDMnn models exist?\n",
        "import pprint\n",
        "mm = hddm.model_config.model_config.keys()\n",
        "pprint.pprint(list(mm))\n",
        "# for m in mm:\n",
        "#   print('\\n\\n' + m)\n",
        "#   pprint.pprint(hddm.model_config.model_config[m])"
      ],
      "metadata": {
        "id": "BY1Q_QzbK2J_"
      },
      "execution_count": null,
      "outputs": []
    },
    {
      "cell_type": "code",
      "source": [
        ""
      ],
      "metadata": {
        "id": "FGUI9kIVGX5W"
      },
      "execution_count": null,
      "outputs": []
    },
    {
      "cell_type": "code",
      "source": [
        "# Make HDDM Model to FIT\n",
        "\n",
        "# Set up the regressor a regressor:\n",
        "reg_model_v = {'model': 'v ~ 1 + stimulus + prevresp', 'link_func': lambda x: x}\n",
        "reg_model_z = {'model': 'z ~ 1 + prevresp', 'link_func': lambda x: x}\n",
        "reg_descr = [reg_model_z, reg_model_v]\n",
        "\n",
        "hddmnn_model = hddm.HDDMnn(data,\n",
        "                           model = model,\n",
        "                           informative = False,\n",
        "                           include = hddm.simulators.model_config[model]['hddm_include'],\n",
        "                           p_outlier = 0.05,\n",
        "                           is_group_model = True)\n",
        "hddmnn_model.sample(nmcmc, burn = 100)"
      ],
      "metadata": {
        "id": "8MpW744nHBf_"
      },
      "execution_count": null,
      "outputs": []
    },
    {
      "cell_type": "code",
      "source": [
        "# Caterpillar Plot: (Parameters recovered ok?)\n",
        "hddm.plotting.plot_caterpillar(hddm_model = hddmnn_model,\n",
        "                               ground_truth_parameter_dict = full_parameter_dict,\n",
        "                               figsize = (8, 8),\n",
        "                               columns = 3)\n",
        "plt.show()"
      ],
      "metadata": {
        "id": "Mwpxi-NHHHu-"
      },
      "execution_count": null,
      "outputs": []
    }
  ]
}