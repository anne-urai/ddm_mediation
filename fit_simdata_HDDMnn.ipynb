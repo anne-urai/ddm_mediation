{
  "nbformat": 4,
  "nbformat_minor": 0,
  "metadata": {
    "colab": {
      "name": "fit_simdata_HDDMnn",
      "provenance": [],
      "collapsed_sections": [],
      "authorship_tag": "ABX9TyNJxghP5VXkfS3Sg+dybn0J",
      "include_colab_link": true
    },
    "kernelspec": {
      "name": "python3",
      "display_name": "Python 3"
    },
    "language_info": {
      "name": "python"
    },
    "accelerator": "GPU"
  },
  "cells": [
    {
      "cell_type": "markdown",
      "metadata": {
        "id": "view-in-github",
        "colab_type": "text"
      },
      "source": [
        "<a href=\"https://colab.research.google.com/github/anne-urai/ddm_mediation/blob/main/fit_simdata_HDDMnn.ipynb\" target=\"_parent\"><img src=\"https://colab.research.google.com/assets/colab-badge.svg\" alt=\"Open In Colab\"/></a>"
      ]
    },
    {
      "cell_type": "code",
      "execution_count": 2,
      "metadata": {
        "colab": {
          "base_uri": "https://localhost:8080/"
        },
        "id": "ajtx3-a8GQJo",
        "outputId": "b2a2ed3d-b425-461d-e0fc-9db200a2e6b5"
      },
      "outputs": [
        {
          "output_type": "stream",
          "name": "stdout",
          "text": [
            "Requirement already satisfied: scikit-learn in /usr/local/lib/python3.7/dist-packages (1.0.2)\n",
            "Requirement already satisfied: scipy>=1.1.0 in /usr/local/lib/python3.7/dist-packages (from scikit-learn) (1.4.1)\n",
            "Requirement already satisfied: numpy>=1.14.6 in /usr/local/lib/python3.7/dist-packages (from scikit-learn) (1.21.5)\n",
            "Requirement already satisfied: threadpoolctl>=2.0.0 in /usr/local/lib/python3.7/dist-packages (from scikit-learn) (3.1.0)\n",
            "Requirement already satisfied: joblib>=0.11 in /usr/local/lib/python3.7/dist-packages (from scikit-learn) (1.1.0)\n",
            "Requirement already satisfied: cython in /usr/local/lib/python3.7/dist-packages (0.29.28)\n",
            "Collecting pymc\n",
            "  Downloading pymc-2.3.8.tar.gz (385 kB)\n",
            "\u001b[K     |████████████████████████████████| 385 kB 3.9 MB/s \n",
            "\u001b[?25hBuilding wheels for collected packages: pymc\n",
            "  Building wheel for pymc (setup.py) ... \u001b[?25l\u001b[?25hdone\n",
            "  Created wheel for pymc: filename=pymc-2.3.8-cp37-cp37m-linux_x86_64.whl size=1361161 sha256=2420cebc862609b0c7937439b55e175d2d3b69b73b734ef339ee0cdabf404cc1\n",
            "  Stored in directory: /root/.cache/pip/wheels/3b/9b/1d/2a2ddbe80519db2698745f0988ce50c36ad38aac886a4ee0ca\n",
            "Successfully built pymc\n",
            "Installing collected packages: pymc\n",
            "Successfully installed pymc-2.3.8\n",
            "Collecting git+https://github.com/anne-urai/hddm\n",
            "  Cloning https://github.com/anne-urai/hddm to /tmp/pip-req-build-s0t4qe4g\n",
            "  Running command git clone -q https://github.com/anne-urai/hddm /tmp/pip-req-build-s0t4qe4g\n",
            "  Running command git submodule update --init --recursive -q\n",
            "Building wheels for collected packages: HDDM\n",
            "  Building wheel for HDDM (setup.py) ... \u001b[?25l\u001b[?25hdone\n",
            "  Created wheel for HDDM: filename=HDDM-0.9.3-cp37-cp37m-linux_x86_64.whl size=3875318 sha256=a125796c93816fdb36fe1b48676603945dcb15d97b1f39ba5ca22562ec5d2bda\n",
            "  Stored in directory: /tmp/pip-ephem-wheel-cache-hqxgwgkn/wheels/fa/1c/d6/4d91002b5305b3dc76ca13cd496b9bbfd0fc9350d27ab615ca\n",
            "Successfully built HDDM\n",
            "Installing collected packages: HDDM\n",
            "Successfully installed HDDM-0.9.3\n",
            "Collecting git+https://github.com/hddm-devs/kabuki\n",
            "  Cloning https://github.com/hddm-devs/kabuki to /tmp/pip-req-build-f_7x8e7z\n",
            "  Running command git clone -q https://github.com/hddm-devs/kabuki /tmp/pip-req-build-f_7x8e7z\n",
            "Building wheels for collected packages: kabuki\n",
            "  Building wheel for kabuki (setup.py) ... \u001b[?25l\u001b[?25hdone\n",
            "  Created wheel for kabuki: filename=kabuki-0.6.4-py3-none-any.whl size=37271 sha256=09b3ebe82f8515f9fbc4c95d61b885168f100c73a77672ea4c840f0f3913a125\n",
            "  Stored in directory: /tmp/pip-ephem-wheel-cache-cqcijyco/wheels/6e/da/56/876f38186281888a996349c96dbbceda8d46df091c04d38a33\n",
            "Successfully built kabuki\n",
            "Installing collected packages: kabuki\n",
            "Successfully installed kabuki-0.6.4\n"
          ]
        }
      ],
      "source": [
        "# First, set Runtime -> Runtime type -> GPU for fitting\n",
        "\n",
        "# https://hddm.readthedocs.io/en/latest/lan_tutorial.html\n",
        "!pip install scikit-learn\n",
        "!pip install cython\n",
        "!pip install pymc\n",
        "\n",
        "# after making changes to the hddm forked repo, factory reset runtime\n",
        "!pip install -U --no-deps git+https://github.com/anne-urai/hddm\n",
        "!pip install -U --no-deps git+https://github.com/hddm-devs/kabuki\n",
        "\n",
        "\n",
        "# MODULE IMPORTS ----\n",
        "# warning settings\n",
        "import warnings\n",
        "warnings.simplefilter(action='ignore', category=FutureWarning)\n",
        "\n",
        "# Data management\n",
        "import pandas as pd\n",
        "import numpy as np\n",
        "import pickle\n",
        "\n",
        "# Plotting\n",
        "import matplotlib.pyplot as plt\n",
        "import matplotlib\n",
        "import seaborn as sns\n",
        "\n",
        "# Stats functionality\n",
        "from statsmodels.distributions.empirical_distribution import ECDF\n",
        "\n",
        "# to download data\n",
        "from google.colab import files\n",
        "import pprint\n",
        "\n",
        "# HDDM\n",
        "import hddm"
      ]
    },
    {
      "cell_type": "code",
      "source": [
        "for eff_x in ['v']: #, 'z', 'vz', 'no']:\n",
        "  for eff_m in ['v']: #, 'z', 'vz', 'no']:\n",
        "\n",
        "   # grab datafile from GitHub\n",
        "    data = pd.read_csv('https://github.com/anne-urai/ddm_mediation/raw/main/data/data_df_X%s_M%s.csv'%(eff_x, eff_m))\n",
        "\n",
        "    # Set up the regressors\n",
        "    reg_model_v = {'model': 'v ~ 1 + S + M + X', 'link_func': lambda x: x}\n",
        "    # reg_model_z = {'model': 'z ~ 1 + prevresp', 'link_func': lambda x: x}\n",
        "    reg_descr = [reg_model_v]\n",
        "\n",
        "    model = 'ddm' # start simple\n",
        "    n_samples = 1000\n",
        "    hddmnn_model = hddm.HDDMnn(data,\n",
        "                               model = model,\n",
        "                               include = hddm.simulators.model_config[model]['hddm_include'],\n",
        "                               p_outlier = 0.05,\n",
        "                               is_group_model = True,\n",
        "                               informative = False)\n",
        "    hddmnn_model.sample(n_samples, burn = n_samples/10)\n",
        "    # "
      ],
      "metadata": {
        "id": "8MpW744nHBf_",
        "colab": {
          "base_uri": "https://localhost:8080/"
        },
        "outputId": "72ccc17b-5f58-44c0-df5a-1b4517f18caf"
      },
      "execution_count": 5,
      "outputs": [
        {
          "output_type": "stream",
          "name": "stdout",
          "text": [
            "Supplied model_config specifies params_std_upper for  z as  None.\n",
            "Changed to 10\n",
            " [-----------------100%-----------------] 1000 of 1000 complete in 495.0 sec"
          ]
        }
      ]
    },
    {
      "cell_type": "code",
      "source": [
        "md_summ = hddmnn_model.gen_stats().reset_index()"
      ],
      "metadata": {
        "id": "9qZuUAHH_hOA"
      },
      "execution_count": 16,
      "outputs": []
    },
    {
      "cell_type": "code",
      "source": [
        "df_summ = hddm.utils.results_long2wide(md_summ, name_col='index', val_col='mean')"
      ],
      "metadata": {
        "colab": {
          "base_uri": "https://localhost:8080/",
          "height": 442
        },
        "id": "oMM_oBx67SJ5",
        "outputId": "b52f197d-7129-496d-8a36-f2a75a487757"
      },
      "execution_count": 17,
      "outputs": [
        {
          "output_type": "error",
          "ename": "KeyError",
          "evalue": "ignored",
          "traceback": [
            "\u001b[0;31m---------------------------------------------------------------------------\u001b[0m",
            "\u001b[0;31mValueError\u001b[0m                                Traceback (most recent call last)",
            "\u001b[0;32m/usr/local/lib/python3.7/dist-packages/pandas/core/indexes/range.py\u001b[0m in \u001b[0;36mget_loc\u001b[0;34m(self, key, method, tolerance)\u001b[0m\n\u001b[1;32m    384\u001b[0m                 \u001b[0;32mtry\u001b[0m\u001b[0;34m:\u001b[0m\u001b[0;34m\u001b[0m\u001b[0;34m\u001b[0m\u001b[0m\n\u001b[0;32m--> 385\u001b[0;31m                     \u001b[0;32mreturn\u001b[0m \u001b[0mself\u001b[0m\u001b[0;34m.\u001b[0m\u001b[0m_range\u001b[0m\u001b[0;34m.\u001b[0m\u001b[0mindex\u001b[0m\u001b[0;34m(\u001b[0m\u001b[0mnew_key\u001b[0m\u001b[0;34m)\u001b[0m\u001b[0;34m\u001b[0m\u001b[0;34m\u001b[0m\u001b[0m\n\u001b[0m\u001b[1;32m    386\u001b[0m                 \u001b[0;32mexcept\u001b[0m \u001b[0mValueError\u001b[0m \u001b[0;32mas\u001b[0m \u001b[0merr\u001b[0m\u001b[0;34m:\u001b[0m\u001b[0;34m\u001b[0m\u001b[0;34m\u001b[0m\u001b[0m\n",
            "\u001b[0;31mValueError\u001b[0m: 1 is not in range",
            "\nThe above exception was the direct cause of the following exception:\n",
            "\u001b[0;31mKeyError\u001b[0m                                  Traceback (most recent call last)",
            "\u001b[0;32m<ipython-input-17-8620a31031a9>\u001b[0m in \u001b[0;36m<module>\u001b[0;34m()\u001b[0m\n\u001b[0;32m----> 1\u001b[0;31m \u001b[0mdf_summ\u001b[0m \u001b[0;34m=\u001b[0m \u001b[0mhddm\u001b[0m\u001b[0;34m.\u001b[0m\u001b[0mutils\u001b[0m\u001b[0;34m.\u001b[0m\u001b[0mresults_long2wide\u001b[0m\u001b[0;34m(\u001b[0m\u001b[0mmd_summ\u001b[0m\u001b[0;34m,\u001b[0m \u001b[0mname_col\u001b[0m\u001b[0;34m=\u001b[0m\u001b[0;34m'index'\u001b[0m\u001b[0;34m,\u001b[0m \u001b[0mval_col\u001b[0m\u001b[0;34m=\u001b[0m\u001b[0;34m'mean'\u001b[0m\u001b[0;34m)\u001b[0m\u001b[0;34m\u001b[0m\u001b[0;34m\u001b[0m\u001b[0m\n\u001b[0m",
            "\u001b[0;32m/usr/local/lib/python3.7/dist-packages/hddm/utils.py\u001b[0m in \u001b[0;36mresults_long2wide\u001b[0;34m(md, name_col, val_col)\u001b[0m\n\u001b[1;32m    944\u001b[0m         \u001b[0;31m# separate out subject idx and parameter value\u001b[0m\u001b[0;34m\u001b[0m\u001b[0;34m\u001b[0m\u001b[0;34m\u001b[0m\u001b[0m\n\u001b[1;32m    945\u001b[0m         \u001b[0;32mfor\u001b[0m \u001b[0mindex\u001b[0m\u001b[0;34m,\u001b[0m \u001b[0mrow\u001b[0m \u001b[0;32min\u001b[0m \u001b[0mnew\u001b[0m\u001b[0;34m.\u001b[0m\u001b[0miterrows\u001b[0m\u001b[0;34m(\u001b[0m\u001b[0;34m)\u001b[0m\u001b[0;34m:\u001b[0m\u001b[0;34m\u001b[0m\u001b[0;34m\u001b[0m\u001b[0m\n\u001b[0;32m--> 946\u001b[0;31m             \u001b[0;32mif\u001b[0m \u001b[0mrow\u001b[0m\u001b[0;34m[\u001b[0m\u001b[0;36m1\u001b[0m\u001b[0;34m]\u001b[0m \u001b[0;34m==\u001b[0m \u001b[0;32mNone\u001b[0m\u001b[0;34m:\u001b[0m\u001b[0;34m\u001b[0m\u001b[0;34m\u001b[0m\u001b[0m\n\u001b[0m\u001b[1;32m    947\u001b[0m                 \u001b[0mrow\u001b[0m\u001b[0;34m[\u001b[0m\u001b[0;36m1\u001b[0m\u001b[0;34m]\u001b[0m \u001b[0;34m=\u001b[0m \u001b[0mrow\u001b[0m\u001b[0;34m[\u001b[0m\u001b[0;36m0\u001b[0m\u001b[0;34m]\u001b[0m\u001b[0;34m\u001b[0m\u001b[0;34m\u001b[0m\u001b[0m\n\u001b[1;32m    948\u001b[0m                 \u001b[0mrow\u001b[0m\u001b[0;34m[\u001b[0m\u001b[0;36m0\u001b[0m\u001b[0;34m]\u001b[0m \u001b[0;34m=\u001b[0m \u001b[0;32mNone\u001b[0m\u001b[0;34m\u001b[0m\u001b[0;34m\u001b[0m\u001b[0m\n",
            "\u001b[0;32m/usr/local/lib/python3.7/dist-packages/pandas/core/series.py\u001b[0m in \u001b[0;36m__getitem__\u001b[0;34m(self, key)\u001b[0m\n\u001b[1;32m    940\u001b[0m \u001b[0;34m\u001b[0m\u001b[0m\n\u001b[1;32m    941\u001b[0m         \u001b[0;32melif\u001b[0m \u001b[0mkey_is_scalar\u001b[0m\u001b[0;34m:\u001b[0m\u001b[0;34m\u001b[0m\u001b[0;34m\u001b[0m\u001b[0m\n\u001b[0;32m--> 942\u001b[0;31m             \u001b[0;32mreturn\u001b[0m \u001b[0mself\u001b[0m\u001b[0;34m.\u001b[0m\u001b[0m_get_value\u001b[0m\u001b[0;34m(\u001b[0m\u001b[0mkey\u001b[0m\u001b[0;34m)\u001b[0m\u001b[0;34m\u001b[0m\u001b[0;34m\u001b[0m\u001b[0m\n\u001b[0m\u001b[1;32m    943\u001b[0m \u001b[0;34m\u001b[0m\u001b[0m\n\u001b[1;32m    944\u001b[0m         \u001b[0;32mif\u001b[0m \u001b[0mis_hashable\u001b[0m\u001b[0;34m(\u001b[0m\u001b[0mkey\u001b[0m\u001b[0;34m)\u001b[0m\u001b[0;34m:\u001b[0m\u001b[0;34m\u001b[0m\u001b[0;34m\u001b[0m\u001b[0m\n",
            "\u001b[0;32m/usr/local/lib/python3.7/dist-packages/pandas/core/series.py\u001b[0m in \u001b[0;36m_get_value\u001b[0;34m(self, label, takeable)\u001b[0m\n\u001b[1;32m   1049\u001b[0m \u001b[0;34m\u001b[0m\u001b[0m\n\u001b[1;32m   1050\u001b[0m         \u001b[0;31m# Similar to Index.get_value, but we do not fall back to positional\u001b[0m\u001b[0;34m\u001b[0m\u001b[0;34m\u001b[0m\u001b[0;34m\u001b[0m\u001b[0m\n\u001b[0;32m-> 1051\u001b[0;31m         \u001b[0mloc\u001b[0m \u001b[0;34m=\u001b[0m \u001b[0mself\u001b[0m\u001b[0;34m.\u001b[0m\u001b[0mindex\u001b[0m\u001b[0;34m.\u001b[0m\u001b[0mget_loc\u001b[0m\u001b[0;34m(\u001b[0m\u001b[0mlabel\u001b[0m\u001b[0;34m)\u001b[0m\u001b[0;34m\u001b[0m\u001b[0;34m\u001b[0m\u001b[0m\n\u001b[0m\u001b[1;32m   1052\u001b[0m         \u001b[0;32mreturn\u001b[0m \u001b[0mself\u001b[0m\u001b[0;34m.\u001b[0m\u001b[0mindex\u001b[0m\u001b[0;34m.\u001b[0m\u001b[0m_get_values_for_loc\u001b[0m\u001b[0;34m(\u001b[0m\u001b[0mself\u001b[0m\u001b[0;34m,\u001b[0m \u001b[0mloc\u001b[0m\u001b[0;34m,\u001b[0m \u001b[0mlabel\u001b[0m\u001b[0;34m)\u001b[0m\u001b[0;34m\u001b[0m\u001b[0;34m\u001b[0m\u001b[0m\n\u001b[1;32m   1053\u001b[0m \u001b[0;34m\u001b[0m\u001b[0m\n",
            "\u001b[0;32m/usr/local/lib/python3.7/dist-packages/pandas/core/indexes/range.py\u001b[0m in \u001b[0;36mget_loc\u001b[0;34m(self, key, method, tolerance)\u001b[0m\n\u001b[1;32m    385\u001b[0m                     \u001b[0;32mreturn\u001b[0m \u001b[0mself\u001b[0m\u001b[0;34m.\u001b[0m\u001b[0m_range\u001b[0m\u001b[0;34m.\u001b[0m\u001b[0mindex\u001b[0m\u001b[0;34m(\u001b[0m\u001b[0mnew_key\u001b[0m\u001b[0;34m)\u001b[0m\u001b[0;34m\u001b[0m\u001b[0;34m\u001b[0m\u001b[0m\n\u001b[1;32m    386\u001b[0m                 \u001b[0;32mexcept\u001b[0m \u001b[0mValueError\u001b[0m \u001b[0;32mas\u001b[0m \u001b[0merr\u001b[0m\u001b[0;34m:\u001b[0m\u001b[0;34m\u001b[0m\u001b[0;34m\u001b[0m\u001b[0m\n\u001b[0;32m--> 387\u001b[0;31m                     \u001b[0;32mraise\u001b[0m \u001b[0mKeyError\u001b[0m\u001b[0;34m(\u001b[0m\u001b[0mkey\u001b[0m\u001b[0;34m)\u001b[0m \u001b[0;32mfrom\u001b[0m \u001b[0merr\u001b[0m\u001b[0;34m\u001b[0m\u001b[0;34m\u001b[0m\u001b[0m\n\u001b[0m\u001b[1;32m    388\u001b[0m             \u001b[0;32mraise\u001b[0m \u001b[0mKeyError\u001b[0m\u001b[0;34m(\u001b[0m\u001b[0mkey\u001b[0m\u001b[0;34m)\u001b[0m\u001b[0;34m\u001b[0m\u001b[0;34m\u001b[0m\u001b[0m\n\u001b[1;32m    389\u001b[0m         \u001b[0;32mreturn\u001b[0m \u001b[0msuper\u001b[0m\u001b[0;34m(\u001b[0m\u001b[0;34m)\u001b[0m\u001b[0;34m.\u001b[0m\u001b[0mget_loc\u001b[0m\u001b[0;34m(\u001b[0m\u001b[0mkey\u001b[0m\u001b[0;34m,\u001b[0m \u001b[0mmethod\u001b[0m\u001b[0;34m=\u001b[0m\u001b[0mmethod\u001b[0m\u001b[0;34m,\u001b[0m \u001b[0mtolerance\u001b[0m\u001b[0;34m=\u001b[0m\u001b[0mtolerance\u001b[0m\u001b[0;34m)\u001b[0m\u001b[0;34m\u001b[0m\u001b[0;34m\u001b[0m\u001b[0m\n",
            "\u001b[0;31mKeyError\u001b[0m: 1"
          ]
        }
      ]
    },
    {
      "cell_type": "code",
      "source": [
        "# # Caterpillar Plot: (Parameters recovered ok?)\n",
        "# hddm.plotting.plot_caterpillar(hddm_model = hddmnn_model,\n",
        "#                                ground_truth_parameter_dict = full_parameter_dict,\n",
        "#                                figsize = (8, 8),\n",
        "#                                columns = 3)\n",
        "# plt.show()"
      ],
      "metadata": {
        "id": "Mwpxi-NHHHu-"
      },
      "execution_count": null,
      "outputs": []
    }
  ]
}