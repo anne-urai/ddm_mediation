{
  "nbformat": 4,
  "nbformat_minor": 0,
  "metadata": {
    "colab": {
      "name": "Untitled0.ipynb",
      "provenance": [],
      "collapsed_sections": [],
      "history_visible": true,
      "authorship_tag": "ABX9TyMzdVZrTKZbZYnEUuj7azfr",
      "include_colab_link": true
    },
    "kernelspec": {
      "name": "python3",
      "display_name": "Python 3"
    },
    "language_info": {
      "name": "python"
    }
  },
  "cells": [
    {
      "cell_type": "markdown",
      "metadata": {
        "id": "view-in-github",
        "colab_type": "text"
      },
      "source": [
        "<a href=\"https://colab.research.google.com/github/anne-urai/ddm_mediation/blob/main/pyddm_fits2.ipynb\" target=\"_parent\"><img src=\"https://colab.research.google.com/assets/colab-badge.svg\" alt=\"Open In Colab\"/></a>"
      ]
    },
    {
      "cell_type": "code",
      "execution_count": 5,
      "metadata": {
        "colab": {
          "base_uri": "https://localhost:8080/"
        },
        "id": "aFxSLkCZ-QoY",
        "outputId": "4026d8ac-df0f-44af-e1eb-dfac62d3ebfa"
      },
      "outputs": [
        {
          "output_type": "stream",
          "name": "stdout",
          "text": [
            "Requirement already satisfied: seaborn in /usr/local/lib/python3.7/dist-packages (0.11.2)\n",
            "Requirement already satisfied: scipy>=1.0 in /usr/local/lib/python3.7/dist-packages (from seaborn) (1.4.1)\n",
            "Requirement already satisfied: pandas>=0.23 in /usr/local/lib/python3.7/dist-packages (from seaborn) (1.3.5)\n",
            "Requirement already satisfied: matplotlib>=2.2 in /usr/local/lib/python3.7/dist-packages (from seaborn) (3.2.2)\n",
            "Requirement already satisfied: numpy>=1.15 in /usr/local/lib/python3.7/dist-packages (from seaborn) (1.21.5)\n",
            "Requirement already satisfied: kiwisolver>=1.0.1 in /usr/local/lib/python3.7/dist-packages (from matplotlib>=2.2->seaborn) (1.3.2)\n",
            "Requirement already satisfied: python-dateutil>=2.1 in /usr/local/lib/python3.7/dist-packages (from matplotlib>=2.2->seaborn) (2.8.2)\n",
            "Requirement already satisfied: pyparsing!=2.0.4,!=2.1.2,!=2.1.6,>=2.0.1 in /usr/local/lib/python3.7/dist-packages (from matplotlib>=2.2->seaborn) (3.0.7)\n",
            "Requirement already satisfied: cycler>=0.10 in /usr/local/lib/python3.7/dist-packages (from matplotlib>=2.2->seaborn) (0.11.0)\n",
            "Requirement already satisfied: pytz>=2017.3 in /usr/local/lib/python3.7/dist-packages (from pandas>=0.23->seaborn) (2018.9)\n",
            "Requirement already satisfied: six>=1.5 in /usr/local/lib/python3.7/dist-packages (from python-dateutil>=2.1->matplotlib>=2.2->seaborn) (1.15.0)\n",
            "Requirement already satisfied: pyddm in /usr/local/lib/python3.7/dist-packages (0.5.2)\n",
            "Requirement already satisfied: paranoid-scientist>=0.2.1 in /usr/local/lib/python3.7/dist-packages (from pyddm) (0.2.2)\n",
            "Requirement already satisfied: scipy>=0.16 in /usr/local/lib/python3.7/dist-packages (from pyddm) (1.4.1)\n",
            "Requirement already satisfied: matplotlib in /usr/local/lib/python3.7/dist-packages (from pyddm) (3.2.2)\n",
            "Requirement already satisfied: numpy>=1.9.2 in /usr/local/lib/python3.7/dist-packages (from pyddm) (1.21.5)\n",
            "Requirement already satisfied: pyparsing!=2.0.4,!=2.1.2,!=2.1.6,>=2.0.1 in /usr/local/lib/python3.7/dist-packages (from matplotlib->pyddm) (3.0.7)\n",
            "Requirement already satisfied: python-dateutil>=2.1 in /usr/local/lib/python3.7/dist-packages (from matplotlib->pyddm) (2.8.2)\n",
            "Requirement already satisfied: cycler>=0.10 in /usr/local/lib/python3.7/dist-packages (from matplotlib->pyddm) (0.11.0)\n",
            "Requirement already satisfied: kiwisolver>=1.0.1 in /usr/local/lib/python3.7/dist-packages (from matplotlib->pyddm) (1.3.2)\n",
            "Requirement already satisfied: six>=1.5 in /usr/local/lib/python3.7/dist-packages (from python-dateutil>=2.1->matplotlib->pyddm) (1.15.0)\n",
            "Collecting pathos\n",
            "  Downloading pathos-0.2.8-py2.py3-none-any.whl (81 kB)\n",
            "\u001b[K     |████████████████████████████████| 81 kB 2.7 MB/s \n",
            "\u001b[?25hRequirement already satisfied: dill>=0.3.4 in /usr/local/lib/python3.7/dist-packages (from pathos) (0.3.4)\n",
            "Collecting ppft>=1.6.6.4\n",
            "  Downloading ppft-1.6.6.4-py3-none-any.whl (65 kB)\n",
            "\u001b[K     |████████████████████████████████| 65 kB 2.4 MB/s \n",
            "\u001b[?25hRequirement already satisfied: multiprocess>=0.70.12 in /usr/local/lib/python3.7/dist-packages (from pathos) (0.70.12.2)\n",
            "Collecting pox>=0.3.0\n",
            "  Downloading pox-0.3.0-py2.py3-none-any.whl (30 kB)\n",
            "Requirement already satisfied: six>=1.7.3 in /usr/local/lib/python3.7/dist-packages (from ppft>=1.6.6.4->pathos) (1.15.0)\n",
            "Installing collected packages: ppft, pox, pathos\n",
            "Successfully installed pathos-0.2.8 pox-0.3.0 ppft-1.6.6.4\n"
          ]
        }
      ],
      "source": [
        "# First, set Runtime -> Runtime type -> GPU for fitting\n",
        "\n",
        "# https://hddm.readthedocs.io/en/latest/lan_tutorial.html\n",
        "!pip install seaborn\n",
        "!pip install pyddm\n",
        "!pip install pathos"
      ]
    },
    {
      "cell_type": "code",
      "source": [
        "import os, itertools\n",
        "import copy\n",
        "import numpy as np\n",
        "import scipy as sp\n",
        "from scipy import stats\n",
        "import pandas as pd\n",
        "import statsmodels.api as sm\n",
        "import matplotlib\n",
        "import matplotlib.pyplot as plt\n",
        "import seaborn as sns\n",
        "from joblib import Parallel, delayed\n",
        "from IPython import embed as shell\n",
        "\n",
        "import ddm\n",
        "from ddm import Sample\n",
        "from ddm import plot\n",
        "from ddm import models\n",
        "from ddm import Model, Fittable, Fitted, Bound, Overlay, Solution\n",
        "from ddm.models.loss import LossFunction\n",
        "from ddm.functions import fit_adjust_model, display_model\n",
        "from ddm.models import DriftConstant, NoiseConstant, BoundConstant, OverlayChain, OverlayNonDecision, OverlayPoissonMixture, OverlayUniformMixture, InitialCondition, ICPoint, ICPointSourceCenter, LossBIC, LossRobustBIC\n",
        "# from ddm import set_N_cpus"
      ],
      "metadata": {
        "id": "ovwmPrMv_Anz"
      },
      "execution_count": 6,
      "outputs": []
    },
    {
      "cell_type": "code",
      "source": [
        "matplotlib.rcParams['pdf.fonttype'] = 42\n",
        "matplotlib.rcParams['ps.fonttype'] = 42\n",
        "sns.set(style='ticks', font='Arial', font_scale=1, rc={\n",
        "    'axes.labelsize': 7,\n",
        "    'axes.titlesize': 7,\n",
        "    'xtick.labelsize': 6,\n",
        "    'ytick.labelsize': 6,\n",
        "    'legend.fontsize': 6,\n",
        "    'axes.linewidth': 0.25,\n",
        "    'xtick.major.width': 0.25,\n",
        "    'ytick.major.width': 0.25,\n",
        "    'ytick.major.width': 0.25,\n",
        "    'ytick.major.width': 0.25,\n",
        "    'ytick.major.pad' : 2.0,\n",
        "    'ytick.minor.pad' : 2.0,\n",
        "    'xtick.major.pad' : 2.0,\n",
        "    'xtick.minor.pad' : 2.0,\n",
        "    'axes.labelpad' : 4.0,\n",
        "    'axes.titlepad' : 6.0,\n",
        "    } )\n",
        "sns.plotting_context()\n",
        "sns.set_palette(\"tab10\")"
      ],
      "metadata": {
        "id": "lpZ7kd2f_OLQ"
      },
      "execution_count": 7,
      "outputs": []
    },
    {
      "cell_type": "code",
      "source": [
        "class StartingPoint(InitialCondition):\n",
        "    name = 'A starting point.'\n",
        "    required_parameters = ['z']\n",
        "    required_conditions = ['X', 'M']\n",
        "    def get_IC(self, x, dx, conditions):\n",
        "        pdf = np.zeros(len(x))\n",
        "        pdf[int(len(pdf)*self.z)] = 1\n",
        "        return pdf\n",
        "\n",
        "class DriftStimulusCoding(ddm.models.Drift):\n",
        "    name = 'Drift'\n",
        "    required_parameters = ['v', 'b', 'm', 'x']\n",
        "    required_conditions = ['stimulus', 'X', 'M']\n",
        "\n",
        "    def get_drift(self, x, conditions, **kwargs):\n",
        "        \n",
        "        stim = conditions['stimulus']\n",
        "        X = conditions['X']\n",
        "        M = conditions['M']\n",
        "\n",
        "        # return:\n",
        "        return (stim*self.v) + (self.b) + (self.x * X) + (self.m * M)\n",
        "    \n",
        "class BoundCollapsingHyperbolic(Bound):\n",
        "    name = 'Hyperbolic collapsing bounds'\n",
        "    required_parameters = ['a']\n",
        "    required_conditions = []\n",
        "    \n",
        "    def get_bound(self, t, conditions, **kwargs):\n",
        "        urgency = False\n",
        "        if urgency:\n",
        "            return self.a-(self.a*(t/(t+self.u)))\n",
        "        else:\n",
        "            return self.a\n",
        "\n",
        "class NonDecisionTime(Overlay):\n",
        "    name = 'Non-decision time'\n",
        "    required_parameters = ['t']\n",
        "    def apply(self, solution):\n",
        "        # Unpack solution object\n",
        "        corr = solution.corr\n",
        "        err = solution.err\n",
        "        m = solution.model\n",
        "        cond = solution.conditions\n",
        "        undec = solution.undec\n",
        "        \n",
        "        shifts = int(self.t/m.dt) # truncate\n",
        "        # Shift the distribution\n",
        "        newcorr = np.zeros(corr.shape, dtype=corr.dtype)\n",
        "        newerr = np.zeros(err.shape, dtype=err.dtype)\n",
        "        if shifts > 0:\n",
        "            newcorr[shifts:] = corr[:-shifts]\n",
        "            newerr[shifts:] = err[:-shifts]\n",
        "        elif shifts < 0:\n",
        "            newcorr[:shifts] = corr[-shifts:]\n",
        "            newerr[:shifts] = err[-shifts:]\n",
        "        else:\n",
        "            newcorr = corr\n",
        "            newerr = err\n",
        "        return Solution(newcorr, newerr, m, cond, undec)\n",
        "\n",
        "def make_model(sample, model_settings):\n",
        "    \n",
        "    T_dur = model_settings['T_dur']\n",
        "\n",
        "    # limits:\n",
        "    ranges = {\n",
        "            'z':(0.05,0.95),               # starting point\n",
        "            'v':(0,5),                     # drift rate\n",
        "            'b':(-5,5),                    # drift bias\n",
        "            'a':(0.1,5),                   # bound\n",
        "            'u':(0.01,T_dur*10),           # hyperbolic collapse\n",
        "            't':(0,2),                     # non-decision time\n",
        "            'm':(-100,100),                # non-decision time\n",
        "            'x':(-100,100),                # non-decision time\n",
        "            }\n",
        "\n",
        "    # put together:\n",
        "    model = Model(name='stimulus coding model / collapsing bound',\n",
        "                IC=StartingPoint(**{param:Fittable(minval=ranges[param[0]][0], maxval=ranges[param[0]][1]) for param in StartingPoint.required_parameters}),\n",
        "                drift=DriftStimulusCoding(**{param:Fittable(minval=ranges[param[0]][0], maxval=ranges[param[0]][1]) for param in DriftStimulusCoding.required_parameters}),\n",
        "                bound=BoundCollapsingHyperbolic(**{param:Fittable(minval=ranges[param[0]][0], maxval=ranges[param[0]][1]) for param in BoundCollapsingHyperbolic.required_parameters}),\n",
        "                overlay=OverlayChain(overlays=[NonDecisionTime(**{param:Fittable(minval=ranges[param[0]][0], maxval=ranges[param[0]][1]) for param in NonDecisionTime.required_parameters}),\n",
        "                                                # OverlayUniformMixture(umixturecoef=0)]),\n",
        "                                                # OverlayPoissonMixture(pmixturecoef=.05, rate=1)\n",
        "                                                ]),\n",
        "                noise=NoiseConstant(noise=1),\n",
        "                dx=.005, dt=.01, T_dur=T_dur)\n",
        "    return model\n",
        "\n",
        "def fit_model(df, model_settings):\n",
        "\n",
        "    from ddm import set_N_cpus\n",
        "    set_N_cpus(20)\n",
        "\n",
        "    # sample:\n",
        "    sample = Sample.from_pandas_dataframe(df=df, rt_column_name='rt', correct_column_name='response')\n",
        "\n",
        "    # make model\n",
        "    model = make_model(sample=sample, model_settings=model_settings)\n",
        "\n",
        "    # fit:\n",
        "    # model = fit_adjust_model(sample=sample, model=model, lossfunction=LossBIC, fitparams={'maxiter':5000})\n",
        "    model = fit_adjust_model(sample=sample, model=model, lossfunction=LossRobustBIC)\n",
        "\n",
        "    # get params:\n",
        "    # param_names = [component.required_parameters for component in model.dependencies]\n",
        "    # param_names = [item for sublist in param_names for item in sublist]\n",
        "    param_names = model.get_model_parameter_names()\n",
        "    params = pd.DataFrame(np.atleast_2d([p.real for p in model.get_model_parameters()]), columns=param_names)\n",
        "    params['bic'] = model.fitresult.value()\n",
        "\n",
        "    return params"
      ],
      "metadata": {
        "id": "5l7xevsZ_Qvb"
      },
      "execution_count": 13,
      "outputs": []
    },
    {
      "cell_type": "code",
      "source": [
        "for eff_x in ['v']: #, 'z', 'vz', 'no']:\n",
        "  for eff_m in ['v']: #, 'z', 'vz', 'no']:\n",
        "\n",
        "   # grab datafile from GitHub\n",
        "    data = pd.read_csv('https://github.com/anne-urai/ddm_mediation/raw/main/data/data_df_X%s_M%s.csv'%(eff_x, eff_m))\n",
        "    data = data.rename({'S': 'stimulus'}, axis=1)\n",
        "    data = data[['subj_idx', 'stimulus', 'response', 'rt', 'M', 'X']]\n",
        "    \n",
        "    # bin:\n",
        "    data['M_bin'] = pd.cut(data['M'], bins=10, labels=False)\n",
        "    data['M'] = data['M_bin'].map(data.groupby(['M_bin'])['M'].mean())\n",
        "\n",
        "    # compute T_dur:\n",
        "    T_dur = data['rt'].max()+1\n",
        "\n",
        "    # set options:\n",
        "    model_settings = [\n",
        "        {'fit': 'pyddm', 'depends_on': {'a':None, 'u':None, 'v':None, 't':None, 'z':None, 'b':None, 'k':None}, \n",
        "                        'start_bias': True, 'drift_bias': True, 'leak': False, 'urgency':False, 'T_dur':T_dur},\n",
        "    ]\n",
        "\n",
        "\n",
        "    groupby = ['subj_idx']\n",
        "    version = 0\n",
        "    res = Parallel(n_jobs=64, verbose=1, backend='loky')(delayed(fit_model)\n",
        "                    (df, model_settings[version]) for ids, df in data.groupby(groupby))\n",
        "    params = pd.concat(res).reset_index(drop=True)"
      ],
      "metadata": {
        "id": "kWaqqc_u_aqp",
        "outputId": "6124f3a5-27a6-4176-f10e-9d2696325bac",
        "colab": {
          "base_uri": "https://localhost:8080/",
          "height": 1000
        }
      },
      "execution_count": 14,
      "outputs": [
        {
          "output_type": "stream",
          "name": "stderr",
          "text": [
            "[Parallel(n_jobs=64)]: Using backend LokyBackend with 64 concurrent workers.\n"
          ]
        },
        {
          "output_type": "error",
          "ename": "NameError",
          "evalue": "ignored",
          "traceback": [
            "\u001b[0;31m---------------------------------------------------------------------------\u001b[0m",
            "\u001b[0;31m_RemoteTraceback\u001b[0m                          Traceback (most recent call last)",
            "\u001b[0;31m_RemoteTraceback\u001b[0m: \n\"\"\"\nmultiprocess.pool.RemoteTraceback: \n\"\"\"\nTraceback (most recent call last):\n  File \"/usr/local/lib/python3.7/dist-packages/multiprocess/pool.py\", line 121, in worker\n    result = (True, func(*args, **kwds))\n  File \"/usr/local/lib/python3.7/dist-packages/multiprocess/pool.py\", line 44, in mapstar\n    return list(map(*args))\n  File \"/usr/local/lib/python3.7/dist-packages/paranoid/decorators.py\", line 114, in _decorated\n    return func(*args, **kwargs)\n  File \"/usr/local/lib/python3.7/dist-packages/ddm/model.py\", line 493, in solve\n    return self.solve_numerical_implicit(conditions=conditions, return_evolution=return_evolution)\n  File \"/usr/local/lib/python3.7/dist-packages/paranoid/decorators.py\", line 114, in _decorated\n    return func(*args, **kwargs)\n  File \"/usr/local/lib/python3.7/dist-packages/ddm/model.py\", line 751, in solve_numerical_implicit\n    return self.solve_numerical(method=\"implicit\", conditions=conditions, **kwargs)\n  File \"/usr/local/lib/python3.7/dist-packages/paranoid/decorators.py\", line 114, in _decorated\n    return func(*args, **kwargs)\n  File \"/usr/local/lib/python3.7/dist-packages/ddm/model.py\", line 589, in solve_numerical\n    pdf_curr = self.IC(conditions=conditions)\n  File \"/usr/local/lib/python3.7/dist-packages/ddm/model.py\", line 296, in IC\n    return self.get_dependence('IC').get_IC(self.x_domain(conditions=conditions), dx=self.dx, conditions=conditions)\n  File \"<ipython-input-13-fd514306ff0e>\", line 6, in get_IC\nNameError: name 'np' is not defined\n\"\"\"\n\nThe above exception was the direct cause of the following exception:\n\nTraceback (most recent call last):\n  File \"/usr/local/lib/python3.7/dist-packages/joblib/externals/loky/process_executor.py\", line 436, in _process_worker\n    r = call_item()\n  File \"/usr/local/lib/python3.7/dist-packages/joblib/externals/loky/process_executor.py\", line 288, in __call__\n    return self.fn(*self.args, **self.kwargs)\n  File \"/usr/local/lib/python3.7/dist-packages/joblib/_parallel_backends.py\", line 595, in __call__\n    return self.func(*args, **kwargs)\n  File \"/usr/local/lib/python3.7/dist-packages/joblib/parallel.py\", line 263, in __call__\n    for func, args, kwargs in self.items]\n  File \"/usr/local/lib/python3.7/dist-packages/joblib/parallel.py\", line 263, in <listcomp>\n    for func, args, kwargs in self.items]\n  File \"<ipython-input-13-fd514306ff0e>\", line 104, in fit_model\n  File \"/usr/local/lib/python3.7/dist-packages/ddm/functions.py\", line 347, in fit_adjust_model\n    x_fit = differential_evolution(_fit_model, constraints, **fitparams)\n  File \"/usr/local/lib/python3.7/dist-packages/scipy/optimize/_differentialevolution.py\", line 306, in differential_evolution\n    ret = solver.solve()\n  File \"/usr/local/lib/python3.7/dist-packages/scipy/optimize/_differentialevolution.py\", line 745, in solve\n    self.population[self.feasible]))\n  File \"/usr/local/lib/python3.7/dist-packages/scipy/optimize/_differentialevolution.py\", line 878, in _calculate_population_energies\n    parameters_pop[0:nfevs]))\n  File \"/usr/local/lib/python3.7/dist-packages/scipy/optimize/_differentialevolution.py\", line 1265, in __call__\n    return self.f(x, *self.args)\n  File \"/usr/local/lib/python3.7/dist-packages/ddm/functions.py\", line 329, in _fit_model\n    lossf = lf.loss(m)\n  File \"/usr/local/lib/python3.7/dist-packages/paranoid/decorators.py\", line 114, in _decorated\n    return func(*args, **kwargs)\n  File \"/usr/local/lib/python3.7/dist-packages/ddm/models/loss.py\", line 218, in loss\n    loglikelihood = -LossLikelihood.loss(self, model)\n  File \"/usr/local/lib/python3.7/dist-packages/paranoid/decorators.py\", line 114, in _decorated\n    return func(*args, **kwargs)\n  File \"/usr/local/lib/python3.7/dist-packages/ddm/models/loss.py\", line 170, in loss\n    sols = self.cache_by_conditions(model)\n  File \"/usr/local/lib/python3.7/dist-packages/ddm/models/loss.py\", line 96, in cache_by_conditions\n    return solve_all_conditions(model, self.sample, conditions=self.required_conditions, method=self.method)\n  File \"/usr/local/lib/python3.7/dist-packages/ddm/functions.py\", line 484, in solve_all_conditions\n    sols = _parallel_pool.map(meth, conds, chunksize=1)\n  File \"/usr/local/lib/python3.7/dist-packages/multiprocess/pool.py\", line 268, in map\n    return self._map_async(func, iterable, mapstar, chunksize).get()\n  File \"/usr/local/lib/python3.7/dist-packages/multiprocess/pool.py\", line 657, in get\n    raise self._value\nNameError: name 'np' is not defined\n\"\"\"",
            "\nThe above exception was the direct cause of the following exception:\n",
            "\u001b[0;31mNameError\u001b[0m                                 Traceback (most recent call last)",
            "\u001b[0;32m<ipython-input-14-2f4652cdf709>\u001b[0m in \u001b[0;36m<module>\u001b[0;34m()\u001b[0m\n\u001b[1;32m     24\u001b[0m     \u001b[0mversion\u001b[0m \u001b[0;34m=\u001b[0m \u001b[0;36m0\u001b[0m\u001b[0;34m\u001b[0m\u001b[0;34m\u001b[0m\u001b[0m\n\u001b[1;32m     25\u001b[0m     res = Parallel(n_jobs=64, verbose=1, backend='loky')(delayed(fit_model)\n\u001b[0;32m---> 26\u001b[0;31m                     (df, model_settings[version]) for ids, df in data.groupby(groupby))\n\u001b[0m\u001b[1;32m     27\u001b[0m     \u001b[0mparams\u001b[0m \u001b[0;34m=\u001b[0m \u001b[0mpd\u001b[0m\u001b[0;34m.\u001b[0m\u001b[0mconcat\u001b[0m\u001b[0;34m(\u001b[0m\u001b[0mres\u001b[0m\u001b[0;34m)\u001b[0m\u001b[0;34m.\u001b[0m\u001b[0mreset_index\u001b[0m\u001b[0;34m(\u001b[0m\u001b[0mdrop\u001b[0m\u001b[0;34m=\u001b[0m\u001b[0;32mTrue\u001b[0m\u001b[0;34m)\u001b[0m\u001b[0;34m\u001b[0m\u001b[0;34m\u001b[0m\u001b[0m\n",
            "\u001b[0;32m/usr/local/lib/python3.7/dist-packages/joblib/parallel.py\u001b[0m in \u001b[0;36m__call__\u001b[0;34m(self, iterable)\u001b[0m\n\u001b[1;32m   1054\u001b[0m \u001b[0;34m\u001b[0m\u001b[0m\n\u001b[1;32m   1055\u001b[0m             \u001b[0;32mwith\u001b[0m \u001b[0mself\u001b[0m\u001b[0;34m.\u001b[0m\u001b[0m_backend\u001b[0m\u001b[0;34m.\u001b[0m\u001b[0mretrieval_context\u001b[0m\u001b[0;34m(\u001b[0m\u001b[0;34m)\u001b[0m\u001b[0;34m:\u001b[0m\u001b[0;34m\u001b[0m\u001b[0;34m\u001b[0m\u001b[0m\n\u001b[0;32m-> 1056\u001b[0;31m                 \u001b[0mself\u001b[0m\u001b[0;34m.\u001b[0m\u001b[0mretrieve\u001b[0m\u001b[0;34m(\u001b[0m\u001b[0;34m)\u001b[0m\u001b[0;34m\u001b[0m\u001b[0;34m\u001b[0m\u001b[0m\n\u001b[0m\u001b[1;32m   1057\u001b[0m             \u001b[0;31m# Make sure that we get a last message telling us we are done\u001b[0m\u001b[0;34m\u001b[0m\u001b[0;34m\u001b[0m\u001b[0;34m\u001b[0m\u001b[0m\n\u001b[1;32m   1058\u001b[0m             \u001b[0melapsed_time\u001b[0m \u001b[0;34m=\u001b[0m \u001b[0mtime\u001b[0m\u001b[0;34m.\u001b[0m\u001b[0mtime\u001b[0m\u001b[0;34m(\u001b[0m\u001b[0;34m)\u001b[0m \u001b[0;34m-\u001b[0m \u001b[0mself\u001b[0m\u001b[0;34m.\u001b[0m\u001b[0m_start_time\u001b[0m\u001b[0;34m\u001b[0m\u001b[0;34m\u001b[0m\u001b[0m\n",
            "\u001b[0;32m/usr/local/lib/python3.7/dist-packages/joblib/parallel.py\u001b[0m in \u001b[0;36mretrieve\u001b[0;34m(self)\u001b[0m\n\u001b[1;32m    933\u001b[0m             \u001b[0;32mtry\u001b[0m\u001b[0;34m:\u001b[0m\u001b[0;34m\u001b[0m\u001b[0;34m\u001b[0m\u001b[0m\n\u001b[1;32m    934\u001b[0m                 \u001b[0;32mif\u001b[0m \u001b[0mgetattr\u001b[0m\u001b[0;34m(\u001b[0m\u001b[0mself\u001b[0m\u001b[0;34m.\u001b[0m\u001b[0m_backend\u001b[0m\u001b[0;34m,\u001b[0m \u001b[0;34m'supports_timeout'\u001b[0m\u001b[0;34m,\u001b[0m \u001b[0;32mFalse\u001b[0m\u001b[0;34m)\u001b[0m\u001b[0;34m:\u001b[0m\u001b[0;34m\u001b[0m\u001b[0;34m\u001b[0m\u001b[0m\n\u001b[0;32m--> 935\u001b[0;31m                     \u001b[0mself\u001b[0m\u001b[0;34m.\u001b[0m\u001b[0m_output\u001b[0m\u001b[0;34m.\u001b[0m\u001b[0mextend\u001b[0m\u001b[0;34m(\u001b[0m\u001b[0mjob\u001b[0m\u001b[0;34m.\u001b[0m\u001b[0mget\u001b[0m\u001b[0;34m(\u001b[0m\u001b[0mtimeout\u001b[0m\u001b[0;34m=\u001b[0m\u001b[0mself\u001b[0m\u001b[0;34m.\u001b[0m\u001b[0mtimeout\u001b[0m\u001b[0;34m)\u001b[0m\u001b[0;34m)\u001b[0m\u001b[0;34m\u001b[0m\u001b[0;34m\u001b[0m\u001b[0m\n\u001b[0m\u001b[1;32m    936\u001b[0m                 \u001b[0;32melse\u001b[0m\u001b[0;34m:\u001b[0m\u001b[0;34m\u001b[0m\u001b[0;34m\u001b[0m\u001b[0m\n\u001b[1;32m    937\u001b[0m                     \u001b[0mself\u001b[0m\u001b[0;34m.\u001b[0m\u001b[0m_output\u001b[0m\u001b[0;34m.\u001b[0m\u001b[0mextend\u001b[0m\u001b[0;34m(\u001b[0m\u001b[0mjob\u001b[0m\u001b[0;34m.\u001b[0m\u001b[0mget\u001b[0m\u001b[0;34m(\u001b[0m\u001b[0;34m)\u001b[0m\u001b[0;34m)\u001b[0m\u001b[0;34m\u001b[0m\u001b[0;34m\u001b[0m\u001b[0m\n",
            "\u001b[0;32m/usr/local/lib/python3.7/dist-packages/joblib/_parallel_backends.py\u001b[0m in \u001b[0;36mwrap_future_result\u001b[0;34m(future, timeout)\u001b[0m\n\u001b[1;32m    540\u001b[0m         AsyncResults.get from multiprocessing.\"\"\"\n\u001b[1;32m    541\u001b[0m         \u001b[0;32mtry\u001b[0m\u001b[0;34m:\u001b[0m\u001b[0;34m\u001b[0m\u001b[0;34m\u001b[0m\u001b[0m\n\u001b[0;32m--> 542\u001b[0;31m             \u001b[0;32mreturn\u001b[0m \u001b[0mfuture\u001b[0m\u001b[0;34m.\u001b[0m\u001b[0mresult\u001b[0m\u001b[0;34m(\u001b[0m\u001b[0mtimeout\u001b[0m\u001b[0;34m=\u001b[0m\u001b[0mtimeout\u001b[0m\u001b[0;34m)\u001b[0m\u001b[0;34m\u001b[0m\u001b[0;34m\u001b[0m\u001b[0m\n\u001b[0m\u001b[1;32m    543\u001b[0m         \u001b[0;32mexcept\u001b[0m \u001b[0mCfTimeoutError\u001b[0m \u001b[0;32mas\u001b[0m \u001b[0me\u001b[0m\u001b[0;34m:\u001b[0m\u001b[0;34m\u001b[0m\u001b[0;34m\u001b[0m\u001b[0m\n\u001b[1;32m    544\u001b[0m             \u001b[0;32mraise\u001b[0m \u001b[0mTimeoutError\u001b[0m \u001b[0;32mfrom\u001b[0m \u001b[0me\u001b[0m\u001b[0;34m\u001b[0m\u001b[0;34m\u001b[0m\u001b[0m\n",
            "\u001b[0;32m/usr/lib/python3.7/concurrent/futures/_base.py\u001b[0m in \u001b[0;36mresult\u001b[0;34m(self, timeout)\u001b[0m\n\u001b[1;32m    433\u001b[0m                 \u001b[0;32mraise\u001b[0m \u001b[0mCancelledError\u001b[0m\u001b[0;34m(\u001b[0m\u001b[0;34m)\u001b[0m\u001b[0;34m\u001b[0m\u001b[0;34m\u001b[0m\u001b[0m\n\u001b[1;32m    434\u001b[0m             \u001b[0;32melif\u001b[0m \u001b[0mself\u001b[0m\u001b[0;34m.\u001b[0m\u001b[0m_state\u001b[0m \u001b[0;34m==\u001b[0m \u001b[0mFINISHED\u001b[0m\u001b[0;34m:\u001b[0m\u001b[0;34m\u001b[0m\u001b[0;34m\u001b[0m\u001b[0m\n\u001b[0;32m--> 435\u001b[0;31m                 \u001b[0;32mreturn\u001b[0m \u001b[0mself\u001b[0m\u001b[0;34m.\u001b[0m\u001b[0m__get_result\u001b[0m\u001b[0;34m(\u001b[0m\u001b[0;34m)\u001b[0m\u001b[0;34m\u001b[0m\u001b[0;34m\u001b[0m\u001b[0m\n\u001b[0m\u001b[1;32m    436\u001b[0m             \u001b[0;32melse\u001b[0m\u001b[0;34m:\u001b[0m\u001b[0;34m\u001b[0m\u001b[0;34m\u001b[0m\u001b[0m\n\u001b[1;32m    437\u001b[0m                 \u001b[0;32mraise\u001b[0m \u001b[0mTimeoutError\u001b[0m\u001b[0;34m(\u001b[0m\u001b[0;34m)\u001b[0m\u001b[0;34m\u001b[0m\u001b[0;34m\u001b[0m\u001b[0m\n",
            "\u001b[0;32m/usr/lib/python3.7/concurrent/futures/_base.py\u001b[0m in \u001b[0;36m__get_result\u001b[0;34m(self)\u001b[0m\n\u001b[1;32m    382\u001b[0m     \u001b[0;32mdef\u001b[0m \u001b[0m__get_result\u001b[0m\u001b[0;34m(\u001b[0m\u001b[0mself\u001b[0m\u001b[0;34m)\u001b[0m\u001b[0;34m:\u001b[0m\u001b[0;34m\u001b[0m\u001b[0;34m\u001b[0m\u001b[0m\n\u001b[1;32m    383\u001b[0m         \u001b[0;32mif\u001b[0m \u001b[0mself\u001b[0m\u001b[0;34m.\u001b[0m\u001b[0m_exception\u001b[0m\u001b[0;34m:\u001b[0m\u001b[0;34m\u001b[0m\u001b[0;34m\u001b[0m\u001b[0m\n\u001b[0;32m--> 384\u001b[0;31m             \u001b[0;32mraise\u001b[0m \u001b[0mself\u001b[0m\u001b[0;34m.\u001b[0m\u001b[0m_exception\u001b[0m\u001b[0;34m\u001b[0m\u001b[0;34m\u001b[0m\u001b[0m\n\u001b[0m\u001b[1;32m    385\u001b[0m         \u001b[0;32melse\u001b[0m\u001b[0;34m:\u001b[0m\u001b[0;34m\u001b[0m\u001b[0;34m\u001b[0m\u001b[0m\n\u001b[1;32m    386\u001b[0m             \u001b[0;32mreturn\u001b[0m \u001b[0mself\u001b[0m\u001b[0;34m.\u001b[0m\u001b[0m_result\u001b[0m\u001b[0;34m\u001b[0m\u001b[0;34m\u001b[0m\u001b[0m\n",
            "\u001b[0;31mNameError\u001b[0m: name 'np' is not defined"
          ]
        }
      ]
    },
    {
      "cell_type": "code",
      "source": [
        ""
      ],
      "metadata": {
        "id": "bloinN3FAbmZ",
        "outputId": "7a1f1ac7-9699-4561-a07c-eb8e2ea45f35",
        "colab": {
          "base_uri": "https://localhost:8080/",
          "height": 585
        }
      },
      "execution_count": 4,
      "outputs": [
        {
          "output_type": "error",
          "ename": "ImportError",
          "evalue": "ignored",
          "traceback": [
            "\u001b[0;31m---------------------------------------------------------------------------\u001b[0m",
            "\u001b[0;31mModuleNotFoundError\u001b[0m                       Traceback (most recent call last)",
            "\u001b[0;32m/usr/local/lib/python3.7/dist-packages/ddm/functions.py\u001b[0m in \u001b[0;36mset_N_cpus\u001b[0;34m(N)\u001b[0m\n\u001b[1;32m     43\u001b[0m         \u001b[0;32mtry\u001b[0m\u001b[0;34m:\u001b[0m\u001b[0;34m\u001b[0m\u001b[0;34m\u001b[0m\u001b[0m\n\u001b[0;32m---> 44\u001b[0;31m             \u001b[0;32mimport\u001b[0m \u001b[0mpathos\u001b[0m\u001b[0;34m\u001b[0m\u001b[0;34m\u001b[0m\u001b[0m\n\u001b[0m\u001b[1;32m     45\u001b[0m         \u001b[0;32mexcept\u001b[0m \u001b[0mImportError\u001b[0m\u001b[0;34m:\u001b[0m\u001b[0;34m\u001b[0m\u001b[0;34m\u001b[0m\u001b[0m\n",
            "\u001b[0;31mModuleNotFoundError\u001b[0m: No module named 'pathos'",
            "\nDuring handling of the above exception, another exception occurred:\n",
            "\u001b[0;31mImportError\u001b[0m                               Traceback (most recent call last)",
            "\u001b[0;32m<ipython-input-4-7dc40f086302>\u001b[0m in \u001b[0;36m<module>\u001b[0;34m()\u001b[0m\n\u001b[1;32m      1\u001b[0m \u001b[0;32mfrom\u001b[0m \u001b[0mddm\u001b[0m \u001b[0;32mimport\u001b[0m \u001b[0mset_N_cpus\u001b[0m\u001b[0;34m\u001b[0m\u001b[0;34m\u001b[0m\u001b[0m\n\u001b[0;32m----> 2\u001b[0;31m \u001b[0mset_N_cpus\u001b[0m\u001b[0;34m(\u001b[0m\u001b[0;36m20\u001b[0m\u001b[0;34m)\u001b[0m\u001b[0;34m\u001b[0m\u001b[0;34m\u001b[0m\u001b[0m\n\u001b[0m\u001b[1;32m      3\u001b[0m \u001b[0;34m\u001b[0m\u001b[0m\n\u001b[1;32m      4\u001b[0m \u001b[0;32mfor\u001b[0m \u001b[0meff_x\u001b[0m \u001b[0;32min\u001b[0m \u001b[0;34m[\u001b[0m\u001b[0;34m'v'\u001b[0m\u001b[0;34m]\u001b[0m\u001b[0;34m:\u001b[0m \u001b[0;31m#, 'z', 'vz', 'no']:\u001b[0m\u001b[0;34m\u001b[0m\u001b[0;34m\u001b[0m\u001b[0m\n\u001b[1;32m      5\u001b[0m   \u001b[0;32mfor\u001b[0m \u001b[0meff_m\u001b[0m \u001b[0;32min\u001b[0m \u001b[0;34m[\u001b[0m\u001b[0;34m'v'\u001b[0m\u001b[0;34m]\u001b[0m\u001b[0;34m:\u001b[0m \u001b[0;31m#, 'z', 'vz', 'no']:\u001b[0m\u001b[0;34m\u001b[0m\u001b[0;34m\u001b[0m\u001b[0m\n",
            "\u001b[0;32m/usr/local/lib/python3.7/dist-packages/ddm/functions.py\u001b[0m in \u001b[0;36mset_N_cpus\u001b[0;34m(N)\u001b[0m\n\u001b[1;32m     44\u001b[0m             \u001b[0;32mimport\u001b[0m \u001b[0mpathos\u001b[0m\u001b[0;34m\u001b[0m\u001b[0;34m\u001b[0m\u001b[0m\n\u001b[1;32m     45\u001b[0m         \u001b[0;32mexcept\u001b[0m \u001b[0mImportError\u001b[0m\u001b[0;34m:\u001b[0m\u001b[0;34m\u001b[0m\u001b[0;34m\u001b[0m\u001b[0m\n\u001b[0;32m---> 46\u001b[0;31m             \u001b[0;32mraise\u001b[0m \u001b[0mImportError\u001b[0m\u001b[0;34m(\u001b[0m\u001b[0;34m\"Parallel support requires pathos.  Please install pathos.\"\u001b[0m\u001b[0;34m)\u001b[0m\u001b[0;34m\u001b[0m\u001b[0;34m\u001b[0m\u001b[0m\n\u001b[0m\u001b[1;32m     47\u001b[0m         \u001b[0;31m#_parallel_pool = pathos.multiprocessing.Pool(N)\u001b[0m\u001b[0;34m\u001b[0m\u001b[0;34m\u001b[0m\u001b[0;34m\u001b[0m\u001b[0m\n\u001b[1;32m     48\u001b[0m         \u001b[0m_parallel_pool\u001b[0m \u001b[0;34m=\u001b[0m \u001b[0mpathos\u001b[0m\u001b[0;34m.\u001b[0m\u001b[0mpools\u001b[0m\u001b[0;34m.\u001b[0m\u001b[0m_ProcessPool\u001b[0m\u001b[0;34m(\u001b[0m\u001b[0mN\u001b[0m\u001b[0;34m)\u001b[0m\u001b[0;34m\u001b[0m\u001b[0;34m\u001b[0m\u001b[0m\n",
            "\u001b[0;31mImportError\u001b[0m: Parallel support requires pathos.  Please install pathos.",
            "",
            "\u001b[0;31m---------------------------------------------------------------------------\u001b[0;32m\nNOTE: If your import is failing due to a missing package, you can\nmanually install dependencies using either !pip or !apt.\n\nTo view examples of installing some common dependencies, click the\n\"Open Examples\" button below.\n\u001b[0;31m---------------------------------------------------------------------------\u001b[0m\n"
          ],
          "errorDetails": {
            "actions": [
              {
                "action": "open_url",
                "actionText": "Open Examples",
                "url": "/notebooks/snippets/importing_libraries.ipynb"
              }
            ]
          }
        }
      ]
    }
  ]
}